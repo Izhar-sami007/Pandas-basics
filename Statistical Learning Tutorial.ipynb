{
 "cells": [
  {
   "cell_type": "code",
   "execution_count": null,
   "id": "fa0ceaef",
   "metadata": {},
   "outputs": [],
   "source": [
    "# import libraries\n",
    "import pandas as pd\n",
    "import numpy as np\n",
    "import seaborn as sns\n",
    "import matplotlib.pyplot as plt\n",
    "from pandas.tools import plotting\n",
    "from scipy import stats\n",
    "plt.style.use(\"ggplot\")\n",
    "import warnings\n",
    "warnings.filterwarnings(\"ignore\")\n",
    "from scipy import stats"
   ]
  },
  {
   "cell_type": "code",
   "execution_count": null,
   "id": "8b71637a",
   "metadata": {},
   "outputs": [],
   "source": [
    "import os\n",
    "print(os.listdir(\"../input\"))"
   ]
  },
  {
   "cell_type": "code",
   "execution_count": null,
   "id": "a4000791",
   "metadata": {},
   "outputs": [],
   "source": [
    "# read data as pandas data frame\n",
    "data = pd.read_csv(\"../input/data.csv\")\n",
    "data = data.drop(['Unnamed: 32','id'],axis = 1)"
   ]
  },
  {
   "cell_type": "code",
   "execution_count": null,
   "id": "3e91f447",
   "metadata": {},
   "outputs": [],
   "source": [
    "# quick look to data\n",
    "data.head()\n",
    "data.shape # (569, 31)\n",
    "data.columns\n",
    "data.isnull().sum()"
   ]
  },
  {
   "cell_type": "code",
   "execution_count": null,
   "id": "4e7c714f",
   "metadata": {},
   "outputs": [],
   "source": [
    "from sklearn.preprocessing import LabelEncoder\n",
    "#sex\n",
    "le = LabelEncoder()\n",
    "le.fit(data.sex.drop_duplicates()) \n",
    "data.sex = le.transform(data.sex)\n",
    "# smoker or not\n",
    "le.fit(data.smoker.drop_duplicates()) \n",
    "data.smoker = le.transform(data.smoker)\n",
    "#region\n",
    "le.fit(data.region.drop_duplicates()) \n",
    "data.region = le.transform(data.region)"
   ]
  },
  {
   "cell_type": "code",
   "execution_count": null,
   "id": "eb53edd4",
   "metadata": {},
   "outputs": [],
   "source": [
    "data.corr()['charges'].sort_values()"
   ]
  },
  {
   "cell_type": "code",
   "execution_count": null,
   "id": "d99dccbb",
   "metadata": {},
   "outputs": [],
   "source": [
    "f, ax = pl.subplots(figsize=(10, 8))\n",
    "corr = data.corr()\n",
    "sns.heatmap(corr, mask=np.zeros_like(corr, dtype=np.bool), cmap=sns.diverging_palette(240,10,as_cmap=True),\n",
    "            square=True, ax=ax)"
   ]
  },
  {
   "cell_type": "code",
   "execution_count": null,
   "id": "cfd0eba9",
   "metadata": {},
   "outputs": [],
   "source": []
  },
  {
   "cell_type": "code",
   "execution_count": null,
   "id": "418cb626",
   "metadata": {},
   "outputs": [],
   "source": []
  },
  {
   "cell_type": "markdown",
   "id": "89563a65",
   "metadata": {},
   "source": [
    "First, let's look at the distribution of charges. This will help us to know how much patients spend on treatment on average. We're importing another useful library that we'll need a few more times. Although it's not necessary, why not :D"
   ]
  },
  {
   "cell_type": "code",
   "execution_count": null,
   "id": "7dd9cb5f",
   "metadata": {},
   "outputs": [],
   "source": [
    "from bokeh.io import output_notebook, show\n",
    "from bokeh.plotting import figure\n",
    "output_notebook()\n",
    "import scipy.special\n",
    "from bokeh.layouts import gridplot\n",
    "from bokeh.plotting import figure, show, output_file\n",
    "p = figure(title=\"Distribution of charges\",tools=\"save\",\n",
    "            background_fill_color=\"#E8DDCB\")\n",
    "hist, edges = np.histogram(data.charges)\n",
    "p.quad(top=hist, bottom=0, left=edges[:-1], right=edges[1:],\n",
    "        fill_color=\"#036564\", line_color=\"#033649\")\n",
    "p.xaxis.axis_label = 'x'\n",
    "p.yaxis.axis_label = 'Pr(x)'\n",
    "show(gridplot(p,ncols = 2, plot_width=400, plot_height=400, toolbar_location=None))"
   ]
  },
  {
   "cell_type": "code",
   "execution_count": null,
   "id": "a5f10151",
   "metadata": {},
   "outputs": [],
   "source": [
    "f= pl.figure(figsize=(12,5))\n",
    "\n",
    "ax=f.add_subplot(121)\n",
    "sns.distplot(data[(data.smoker == 1)][\"charges\"],color='c',ax=ax)\n",
    "ax.set_title('Distribution of charges for smokers')\n",
    "\n",
    "ax=f.add_subplot(122)\n",
    "sns.distplot(data[(data.smoker == 0)]['charges'],color='b',ax=ax)\n",
    "ax.set_title('Distribution of charges for non-smokers')"
   ]
  },
  {
   "cell_type": "code",
   "execution_count": null,
   "id": "ecb74969",
   "metadata": {},
   "outputs": [],
   "source": [
    "sns.catplot(x=\"smoker\", kind=\"count\",hue = 'sex', palette=\"pink\", data=data)"
   ]
  },
  {
   "cell_type": "code",
   "execution_count": null,
   "id": "5d2f0886",
   "metadata": {},
   "outputs": [],
   "source": [
    "sns.catplot(x=\"sex\", y=\"charges\", hue=\"smoker\",\n",
    "            kind=\"violin\", data=data, palette = 'magma')"
   ]
  },
  {
   "cell_type": "code",
   "execution_count": null,
   "id": "ff8e4447",
   "metadata": {},
   "outputs": [],
   "source": [
    "pl.figure(figsize=(12,5))\n",
    "pl.title(\"Box plot for charges of women\")\n",
    "sns.boxplot(y=\"smoker\", x=\"charges\", data =  data[(data.sex == 1)] , orient=\"h\", palette = 'magma')"
   ]
  },
  {
   "cell_type": "code",
   "execution_count": null,
   "id": "49b35418",
   "metadata": {},
   "outputs": [],
   "source": [
    "pl.figure(figsize=(12,5))\n",
    "pl.title(\"Box plot for charges of men\")\n",
    "sns.boxplot(y=\"smoker\", x=\"charges\", data =  data[(data.sex == 0)] , orient=\"h\", palette = 'rainbow')"
   ]
  },
  {
   "cell_type": "markdown",
   "id": "702e0a79",
   "metadata": {},
   "source": [
    "Now let's pay attention to the age of the patients. First, let's look at how age affects the cost of treatment, and also look at patients of what age more in our data set."
   ]
  },
  {
   "cell_type": "code",
   "execution_count": null,
   "id": "acb85234",
   "metadata": {},
   "outputs": [],
   "source": [
    "pl.figure(figsize=(12,5))\n",
    "pl.title(\"Distribution of age\")\n",
    "ax = sns.distplot(data[\"age\"], color = 'g')"
   ]
  },
  {
   "cell_type": "markdown",
   "id": "3e59bfcf",
   "metadata": {},
   "source": [
    "We have patients under 20 in our data set. Im 18 years old. This is the minimum age of patients in our set. The maximum age is 64 years. My personal interest is whether there are smokers among patients 18 years."
   ]
  },
  {
   "cell_type": "code",
   "execution_count": null,
   "id": "5faca78a",
   "metadata": {},
   "outputs": [],
   "source": [
    "sns.catplot(x=\"smoker\", kind=\"count\",hue = 'sex', palette=\"rainbow\", data=data[(data.age == 18)])\n",
    "pl.title(\"The number of smokers and non-smokers (18 years old)\")"
   ]
  },
  {
   "cell_type": "markdown",
   "id": "7ce3194b",
   "metadata": {},
   "source": [
    "Oh. I was hoping the result would be different. 18 years old - a very young age. Does smoking affect the cost of treatment at this age?"
   ]
  },
  {
   "cell_type": "code",
   "execution_count": null,
   "id": "607d59d0",
   "metadata": {},
   "outputs": [],
   "source": [
    "pl.figure(figsize=(12,5))\n",
    "pl.title(\"Box plot for charges 18 years old smokers\")\n",
    "sns.boxplot(y=\"smoker\", x=\"charges\", data = data[(data.age == 18)] , orient=\"h\", palette = 'pink')"
   ]
  },
  {
   "cell_type": "markdown",
   "id": "63488d80",
   "metadata": {},
   "source": [
    "\n",
    "Oh. As we can see, even at the age of 18 smokers spend much more on treatment than non-smokers. Among non-smokers we are seeing some \" tails.\" I can assume that this is due to serious diseases or accidents. Now let's see how the cost of treatment depends on the age of smokers and non-smokers patients."
   ]
  },
  {
   "cell_type": "code",
   "execution_count": null,
   "id": "51122ac4",
   "metadata": {},
   "outputs": [],
   "source": []
  },
  {
   "cell_type": "code",
   "execution_count": null,
   "id": "404a2071",
   "metadata": {},
   "outputs": [],
   "source": []
  },
  {
   "cell_type": "markdown",
   "id": "ad900f0d",
   "metadata": {},
   "source": [
    "# Histogram\n",
    "How many times each value appears in dataset. This description is called the distribution of variable\n",
    "\n",
    "Most common way to represent distribution of varible is histogram that is graph which shows frequency of each value.\n",
    "\n",
    "Frequency = number of times each value appears\n",
    "\n",
    "Example: [1,1,1,1,2,2,2]. Frequency of 1 is four and frequency of 2 is three."
   ]
  },
  {
   "cell_type": "code",
   "execution_count": null,
   "id": "ca5b2f2e",
   "metadata": {},
   "outputs": [],
   "source": [
    "m = plt.hist(data[data[\"diagnosis\"] == \"M\"].radius_mean,bins=30,fc = (1,0,0,0.5),label = \"Malignant\")\n",
    "b = plt.hist(data[data[\"diagnosis\"] == \"B\"].radius_mean,bins=30,fc = (0,1,0,0.5),label = \"Bening\")\n",
    "plt.legend()\n",
    "plt.xlabel(\"Radius Mean Values\")\n",
    "plt.ylabel(\"Frequency\")\n",
    "plt.title(\"Histogram of Radius Mean for Bening and Malignant Tumors\")\n",
    "plt.show()\n",
    "frequent_malignant_radius_mean = m[0].max()\n",
    "index_frequent_malignant_radius_mean = list(m[0]).index(frequent_malignant_radius_mean)\n",
    "most_frequent_malignant_radius_mean = m[1][index_frequent_malignant_radius_mean]\n",
    "print(\"Most frequent malignant radius mean is: \",most_frequent_malignant_radius_mean)"
   ]
  },
  {
   "cell_type": "markdown",
   "id": "68095741",
   "metadata": {},
   "source": [
    "\n",
    "# Outliers\n",
    "While looking histogram as yok can see there are rare values in bening distribution (green in graph)\n",
    "\n",
    "There values can be errors or rare events.\n",
    "\n",
    "These errors and rare events can be called outliers.\n",
    "\n",
    "Calculating outliers:\n",
    "first we need to calculate first quartile (Q1)(25%)\n",
    "\n",
    "then find IQR(inter quartile range) = Q3-Q1\n",
    "\n",
    "finally compute Q1 - 1.5IQR and Q3 + 1.5IQR\n",
    "\n",
    "Anything outside this range is an outlier\n",
    "\n",
    "lets write the code for bening tumor distribution for feature radius mean"
   ]
  },
  {
   "cell_type": "code",
   "execution_count": null,
   "id": "278cc416",
   "metadata": {},
   "outputs": [],
   "source": [
    "data_bening = data[data[\"diagnosis\"] == \"B\"]\n",
    "data_malignant = data[data[\"diagnosis\"] == \"M\"]\n",
    "desc = data_bening.radius_mean.describe()\n",
    "Q1 = desc[4]\n",
    "Q3 = desc[6]\n",
    "IQR = Q3-Q1\n",
    "lower_bound = Q1 - 1.5*IQR\n",
    "upper_bound = Q3 + 1.5*IQR\n",
    "print(\"Anything outside this range is an outlier: (\", lower_bound ,\",\", upper_bound,\")\")\n",
    "data_bening[data_bening.radius_mean < lower_bound].radius_mean\n",
    "print(\"Outliers: \",data_bening[(data_bening.radius_mean < lower_bound) | (data_bening.radius_mean > upper_bound)].radius_mean.values)"
   ]
  },
  {
   "cell_type": "markdown",
   "id": "ed0c2fef",
   "metadata": {},
   "source": [
    "\n",
    "# Box Plot\n",
    "You can see outliers also from box plots\n",
    "\n",
    "We found 3 outlier in bening radius mean and in box plot there are 3 outlier."
   ]
  },
  {
   "cell_type": "code",
   "execution_count": null,
   "id": "105bd3c9",
   "metadata": {},
   "outputs": [],
   "source": [
    "melted_data = pd.melt(data,id_vars = \"diagnosis\",value_vars = ['radius_mean', 'texture_mean'])\n",
    "plt.figure(figsize = (15,10))\n",
    "sns.boxplot(x = \"variable\", y = \"value\", hue=\"diagnosis\",data= melted_data)\n",
    "plt.show()"
   ]
  },
  {
   "cell_type": "markdown",
   "id": "82400278",
   "metadata": {},
   "source": [
    "\n",
    "# Summary Statistics\n",
    "Mean\n",
    "\n",
    "Variance: spread of distribution\n",
    "\n",
    "Standart deviation square root of variance\n",
    "\n",
    "Lets look at summary statistics of bening tumor radiance mean"
   ]
  },
  {
   "cell_type": "code",
   "execution_count": null,
   "id": "4dd50a2b",
   "metadata": {},
   "outputs": [],
   "source": [
    "print(\"mean: \",data_bening.radius_mean.mean())\n",
    "print(\"variance: \",data_bening.radius_mean.var())\n",
    "print(\"standart deviation (std): \",data_bening.radius_mean.std())\n",
    "print(\"describe method: \",data_bening.radius_mean.describe())"
   ]
  },
  {
   "cell_type": "markdown",
   "id": "7e11163e",
   "metadata": {},
   "source": [
    "\n",
    "# CDF\n",
    "Cumulative distribution function is the probability that the variable takes a value less than or equal to x. P(X <= x)\n",
    "\n",
    "Lets explain in cdf graph of bening radiues mean\n",
    "\n",
    "in graph, what is P(12 < X)? The answer is 0.5. The probability that the variable takes a values less than or equal to 12(radius mean) is 0.5.\n",
    "\n",
    "You can plot cdf with two different method"
   ]
  },
  {
   "cell_type": "code",
   "execution_count": null,
   "id": "703bd44e",
   "metadata": {},
   "outputs": [],
   "source": [
    "plt.hist(data_bening.radius_mean,bins=50,fc=(0,1,0,0.5),label='Bening',normed = True,cumulative = True)\n",
    "sorted_data = np.sort(data_bening.radius_mean)\n",
    "y = np.arange(len(sorted_data))/float(len(sorted_data)-1)\n",
    "plt.plot(sorted_data,y,color='red')\n",
    "plt.title('CDF of bening tumor radius mean')\n",
    "plt.show()"
   ]
  },
  {
   "cell_type": "markdown",
   "id": "3f9032ba",
   "metadata": {},
   "source": [
    "\n",
    "# Relationship Between Variables\n",
    "We can say that two variables are related with each other, if one of them gives information about others\n",
    "\n",
    "For example, price and distance. If you go long distance with taxi you will pay more. There fore we can say that price and distance are positively related with each other.\n",
    "\n",
    "Scatter Plot\n",
    "\n",
    "Simplest way to check relationship between two variables\n",
    "\n",
    "Lets look at relationship between radius mean and area mean\n",
    "\n",
    "In scatter plot you can see that when radius mean increases, area mean also increases. Therefore, they are positively correlated with each other.\n",
    "\n",
    "There is no correlation between area mean and fractal dimension se. Because when area mean changes, fractal dimension se is not affected by chance of area mean"
   ]
  },
  {
   "cell_type": "code",
   "execution_count": null,
   "id": "f6cd7518",
   "metadata": {},
   "outputs": [],
   "source": [
    "plt.figure(figsize = (15,10))\n",
    "sns.jointplot(data.radius_mean,data.area_mean,kind=\"regg\")\n",
    "plt.show()"
   ]
  },
  {
   "cell_type": "code",
   "execution_count": null,
   "id": "95f9f132",
   "metadata": {},
   "outputs": [],
   "source": [
    "# Also we can look relationship between more than 2 distribution\n",
    "sns.set(style = \"white\")\n",
    "df = data.loc[:,[\"radius_mean\",\"area_mean\",\"fractal_dimension_se\"]]\n",
    "g = sns.PairGrid(df,diag_sharey = False,)\n",
    "g.map_lower(sns.kdeplot,cmap=\"Blues_d\")\n",
    "g.map_upper(plt.scatter)\n",
    "g.map_diag(sns.kdeplot,lw =3)\n",
    "plt.show()"
   ]
  },
  {
   "cell_type": "markdown",
   "id": "360a362e",
   "metadata": {},
   "source": [
    "\n",
    "# Correlation\n",
    "Strength of the relationship between two variables\n",
    "\n",
    "Lets look at correlation between all features."
   ]
  },
  {
   "cell_type": "code",
   "execution_count": null,
   "id": "bbaa23ea",
   "metadata": {},
   "outputs": [],
   "source": [
    "f,ax=plt.subplots(figsize = (18,18))\n",
    "sns.heatmap(data.corr(),annot= True,linewidths=0.5,fmt = \".1f\",ax=ax)\n",
    "plt.xticks(rotation=90)\n",
    "plt.yticks(rotation=0)\n",
    "plt.title('Correlation Map')\n",
    "plt.savefig('graph.png')\n",
    "plt.show()"
   ]
  },
  {
   "cell_type": "markdown",
   "id": "b6a11e5f",
   "metadata": {},
   "source": [
    "Huge matrix that includes a lot of numbers\n",
    "\n",
    "The range of this numbers are -1 to 1.\n",
    "\n",
    "Meaning of 1 is two variable are positively correlated with each other like radius mean and area mean\n",
    "\n",
    "Meaning of zero is there is no correlation between variables like radius mean and fractal dimension se\n",
    "\n",
    "Meaning of -1 is two variables are negatively correlated with each other like radius mean and fractal dimension mean.Actually correlation between of them is not -1, it is -0.3 but the idea is that if sign of correlation is negative that means that there is negative correlation."
   ]
  },
  {
   "cell_type": "markdown",
   "id": "d8622a76",
   "metadata": {},
   "source": [
    "\n",
    "# Covariance\n",
    "Covariance is measure of the tendency of two variables to vary together\n",
    "\n",
    "So covariance is maximized if two vectors are identical\n",
    "\n",
    "Covariance is zero if they are orthogonal.\n",
    "\n",
    "Covariance is negative if they point in opposite direction\n",
    "\n",
    "Lets look at covariance between radius mean and area mean. Then look at radius mean and fractal dimension se"
   ]
  },
  {
   "cell_type": "code",
   "execution_count": null,
   "id": "eea0bb9c",
   "metadata": {},
   "outputs": [],
   "source": [
    "np.cov(data.radius_mean,data.area_mean)\n",
    "print(\"Covariance between radius mean and area mean: \",data.radius_mean.cov(data.area_mean))\n",
    "print(\"Covariance between radius mean and fractal dimension se: \",data.radius_mean.cov(data.fractal_dimension_se))"
   ]
  },
  {
   "cell_type": "markdown",
   "id": "14a1f620",
   "metadata": {},
   "source": [
    "\n",
    "# Pearson Correlation\n",
    "Division of covariance by standart deviation of variables\n",
    "\n",
    "Lets look at pearson correlation between radius mean and area mean\n",
    "\n",
    "First lets use .corr() method that we used actually at correlation part. In correlation part we actually used pearson correlation :)\n",
    "\n",
    "p1 and p2 is the same. In p1 we use corr() method, in p2 we apply definition of pearson correlation (cov(A,B)/(std(A)*std(B)))\n",
    "\n",
    "As we expect pearson correlation between area_mean and area_mean is 1 that means that they are same distribution\n",
    "\n",
    "Also pearson correlation between area_mean and radius_mean is 0.98 that means that they are positively correlated with each other and relationship between of the is very high.\n",
    "\n",
    "To be more clear what we did at correlation part and pearson correlation part is same."
   ]
  },
  {
   "cell_type": "code",
   "execution_count": null,
   "id": "64b3aae7",
   "metadata": {},
   "outputs": [],
   "source": [
    "p1 = data.loc[:,[\"area_mean\",\"radius_mean\"]].corr(method= \"pearson\")\n",
    "p2 = data.radius_mean.cov(data.area_mean)/(data.radius_mean.std()*data.area_mean.std())\n",
    "print('Pearson correlation: ')\n",
    "print(p1)\n",
    "print('Pearson correlation: ',p2)"
   ]
  },
  {
   "cell_type": "markdown",
   "id": "34aca9ab",
   "metadata": {},
   "source": [
    "\n",
    "# Spearman's Rank Correlation\n",
    "Pearson correlation works well if the relationship between variables are linear and variables are roughly normal. But it is not robust, if there are outliers\n",
    "\n",
    "To compute spearman's correlation we need to compute rank of each value"
   ]
  },
  {
   "cell_type": "code",
   "execution_count": null,
   "id": "30ac238e",
   "metadata": {},
   "outputs": [],
   "source": [
    "ranked_data = data.rank()\n",
    "spearman_corr = ranked_data.loc[:,[\"area_mean\",\"radius_mean\"]].corr(method= \"pearson\")\n",
    "print(\"Spearman's correlation: \")\n",
    "print(spearman_corr)"
   ]
  },
  {
   "cell_type": "markdown",
   "id": "d95783f3",
   "metadata": {},
   "source": [
    "\n",
    "# Mean VS Median\n",
    "Sometimes instead of mean we need to use median. I am going to explain why we need to use median with an example\n",
    "\n",
    "Lets think that there are 10 people who work in a company. Boss of the company will make raise in their salary if their mean of salary is smaller than 5"
   ]
  },
  {
   "cell_type": "code",
   "execution_count": null,
   "id": "85861a30",
   "metadata": {},
   "outputs": [],
   "source": [
    "salary = [1,4,3,2,5,4,2,3,1,500]\n",
    "print(\"Mean of salary: \",np.mean(salary))"
   ]
  },
  {
   "cell_type": "markdown",
   "id": "23b1dffd",
   "metadata": {},
   "source": [
    "Mean of salary is 52.5 so the boss thinks that oooo I gave a lot of salary to my employees. And do not makes raise in their salaries. However as you know this is not fair and 500(salary) is outlier for this salary list.\n",
    "\n",
    "Median avoids outliers"
   ]
  },
  {
   "cell_type": "code",
   "execution_count": null,
   "id": "3137a15f",
   "metadata": {},
   "outputs": [],
   "source": [
    "print(\"Median of salary: \",np.median(salary))"
   ]
  },
  {
   "cell_type": "markdown",
   "id": "a9c7614d",
   "metadata": {},
   "source": [
    "\n",
    "# Hypothesis Testing\n",
    "Classical Hypothesis Testing\n",
    "We want to answer this question: \"given a sample and a apparent effecti what is the probability of seeing such an effect by chance\"\n",
    "The first step is to quantify the size of the apparent effect by choosing a test statistic. Natural choice for the test statistic is the difference in means between two groups.\n",
    "The second step is to define null hypothesis that is model of the system based on the assumption that the apparent effect is not real. A null hypothesis is a type of hypothesis used in statistics that proposes that no statistical significance exists in a set of given observations. The null hypothesis is a hypothesis which people tries to disprove it. Alternative hypothesis is a hypothesis which people want to tries to prove it.\n",
    "Third step is compute p-value that is probablity of seeing the apparent effect if the null hypothesis is true. Suppose we have null hypothesis test. Then we calculate p value. If p value is less than or equal to a threshold, we reject null hypothesis.\n",
    "If the p-value is low, the effect is said to be statistacally significant that means that it is unlikely to have occured by chance. Therefore we can say that the effect is more likely to appear in the larger population.\n",
    "Lets have an example. Null hypothesis: world is flatten. Alternative hypothesis: world is round. Several scientists set out to disprove the null hypothesis. This eventually led to the refection of the null hypothesis and acceptance of the alternative hypothesis.\n",
    "Other example. \"this effect is real\" this is null hypothesis. Based on that assumption we compute the probability of the apparent effect. That is the p-value. If p-value is low, we conclude that null hypothesis is unlikely to be true.\n",
    "Now lets make our example:\n",
    "I want to learn that are radius mean and area mean related with each other? My null hypothesis is that \"relationship between radius mean and area mean is zero in tumor population'.\n",
    "Now we need to refute this null hypothesis in order to demonstrate that radius mean and area mean are related. (actually we know it from our previous experiences)\n",
    "lets find p-value (probability value)"
   ]
  },
  {
   "cell_type": "code",
   "execution_count": null,
   "id": "4928e037",
   "metadata": {},
   "outputs": [],
   "source": [
    "statistic, p_value = stats.ttest_rel(data.radius_mean,data.area_mean)\n",
    "print('p-value: ',p_value)"
   ]
  },
  {
   "cell_type": "markdown",
   "id": "6ca96561",
   "metadata": {},
   "source": [
    "\n",
    "# Normal(Gaussian) Distribution and z-score\n",
    "Also called bell shaped distribution\n",
    "\n",
    "Instead of making formal definition of gaussian distribution, I want to explain it with an example.\n",
    "\n",
    "The classic example is gaussian is IQ score.\n",
    "\n",
    "In the world lets say average IQ is 110.\n",
    "There are few people that are super intelligent and their IQs are higher than 110. It can be 140 or 150 but it is rare.\n",
    "\n",
    "Also there are few people that have low intelligent and their IQ is lower than 110. It can be 40 or 50 but it is rare.\n",
    "\n",
    "From these information we can say that mean of IQ is 110. And lets say standart deviation is 20.\n",
    "\n",
    "Mean and standart deviation is parameters of normal distribution.\n",
    "\n",
    "Lets create 100000 sample and visualize it with histogram."
   ]
  },
  {
   "cell_type": "code",
   "execution_count": null,
   "id": "dc3772ee",
   "metadata": {},
   "outputs": [],
   "source": [
    "# parameters of normal distribution\n",
    "mu, sigma = 110, 20  # mean and standard deviation\n",
    "s = np.random.normal(mu, sigma, 100000)\n",
    "print(\"mean: \", np.mean(s))\n",
    "print(\"standart deviation: \", np.std(s))\n",
    "# visualize with histogram\n",
    "plt.figure(figsize = (10,7))\n",
    "plt.hist(s, 100, normed=False)\n",
    "plt.ylabel(\"frequency\")\n",
    "plt.xlabel(\"IQ\")\n",
    "plt.title(\"Histogram of IQ\")\n",
    "plt.show()"
   ]
  },
  {
   "cell_type": "code",
   "execution_count": null,
   "id": "8f8a71f3",
   "metadata": {},
   "outputs": [],
   "source": []
  },
  {
   "cell_type": "code",
   "execution_count": null,
   "id": "9f723dd3",
   "metadata": {},
   "outputs": [],
   "source": []
  },
  {
   "cell_type": "code",
   "execution_count": null,
   "id": "2925cfa0",
   "metadata": {},
   "outputs": [],
   "source": []
  }
 ],
 "metadata": {
  "kernelspec": {
   "display_name": "Python 3 (ipykernel)",
   "language": "python",
   "name": "python3"
  },
  "language_info": {
   "codemirror_mode": {
    "name": "ipython",
    "version": 3
   },
   "file_extension": ".py",
   "mimetype": "text/x-python",
   "name": "python",
   "nbconvert_exporter": "python",
   "pygments_lexer": "ipython3",
   "version": "3.9.12"
  }
 },
 "nbformat": 4,
 "nbformat_minor": 5
}
